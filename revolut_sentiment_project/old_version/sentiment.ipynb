{
 "cells": [
  {
   "cell_type": "code",
   "execution_count": 2,
   "metadata": {},
   "outputs": [],
   "source": [
    "import pandas as pd\n",
    "import seaborn as sns\n",
    "import matplotlib as plt\n",
    "from textblob import TextBlob\n",
    "from api_call import get_comments_for_videos\n",
    "from transformers import AutoModelForSequenceClassification\n",
    "from transformers import TFAutoModelForSequenceClassification\n",
    "from transformers import AutoTokenizer, AutoConfig\n",
    "import numpy as np\n",
    "from scipy.special import softmax\n",
    "from transformers import BertTokenizer\n",
    "\n"
   ]
  },
  {
   "cell_type": "markdown",
   "metadata": {},
   "source": [
    "## Reading in API Data"
   ]
  },
  {
   "cell_type": "code",
   "execution_count": 3,
   "metadata": {},
   "outputs": [
    {
     "data": {
      "text/html": [
       "<div>\n",
       "<style scoped>\n",
       "    .dataframe tbody tr th:only-of-type {\n",
       "        vertical-align: middle;\n",
       "    }\n",
       "\n",
       "    .dataframe tbody tr th {\n",
       "        vertical-align: top;\n",
       "    }\n",
       "\n",
       "    .dataframe thead th {\n",
       "        text-align: right;\n",
       "    }\n",
       "</style>\n",
       "<table border=\"1\" class=\"dataframe\">\n",
       "  <thead>\n",
       "    <tr style=\"text-align: right;\">\n",
       "      <th></th>\n",
       "      <th>video_id</th>\n",
       "      <th>author</th>\n",
       "      <th>comment</th>\n",
       "      <th>published_at</th>\n",
       "    </tr>\n",
       "  </thead>\n",
       "  <tbody>\n",
       "    <tr>\n",
       "      <th>0</th>\n",
       "      <td>7MAJfcG8B7E</td>\n",
       "      <td>@SmartMoneywithKai</td>\n",
       "      <td>⚡ ALL MY FAVOURITE TOOLS\\nhttps://smartmoneywi...</td>\n",
       "      <td>2024-07-18T16:22:20Z</td>\n",
       "    </tr>\n",
       "    <tr>\n",
       "      <th>1</th>\n",
       "      <td>7MAJfcG8B7E</td>\n",
       "      <td>@Bogdan7a</td>\n",
       "      <td>I can clearly see that Revolut paid you. lol</td>\n",
       "      <td>2024-11-10T21:22:26Z</td>\n",
       "    </tr>\n",
       "    <tr>\n",
       "      <th>2</th>\n",
       "      <td>7MAJfcG8B7E</td>\n",
       "      <td>@isjeboyveghel6665</td>\n",
       "      <td>what is the value of 10K points in euros ?</td>\n",
       "      <td>2024-11-05T11:23:12Z</td>\n",
       "    </tr>\n",
       "    <tr>\n",
       "      <th>3</th>\n",
       "      <td>7MAJfcG8B7E</td>\n",
       "      <td>@yuvraj1566</td>\n",
       "      <td>Using the ultra plan, if you pay via your Revo...</td>\n",
       "      <td>2024-11-03T20:39:20Z</td>\n",
       "    </tr>\n",
       "    <tr>\n",
       "      <th>4</th>\n",
       "      <td>7MAJfcG8B7E</td>\n",
       "      <td>@bakierol5315</td>\n",
       "      <td>spare change is scam! i have spent 130£  witho...</td>\n",
       "      <td>2024-10-30T02:41:59Z</td>\n",
       "    </tr>\n",
       "  </tbody>\n",
       "</table>\n",
       "</div>"
      ],
      "text/plain": [
       "      video_id              author  \\\n",
       "0  7MAJfcG8B7E  @SmartMoneywithKai   \n",
       "1  7MAJfcG8B7E           @Bogdan7a   \n",
       "2  7MAJfcG8B7E  @isjeboyveghel6665   \n",
       "3  7MAJfcG8B7E         @yuvraj1566   \n",
       "4  7MAJfcG8B7E       @bakierol5315   \n",
       "\n",
       "                                             comment          published_at  \n",
       "0  ⚡ ALL MY FAVOURITE TOOLS\\nhttps://smartmoneywi...  2024-07-18T16:22:20Z  \n",
       "1       I can clearly see that Revolut paid you. lol  2024-11-10T21:22:26Z  \n",
       "2         what is the value of 10K points in euros ?  2024-11-05T11:23:12Z  \n",
       "3  Using the ultra plan, if you pay via your Revo...  2024-11-03T20:39:20Z  \n",
       "4  spare change is scam! i have spent 130£  witho...  2024-10-30T02:41:59Z  "
      ]
     },
     "execution_count": 3,
     "metadata": {},
     "output_type": "execute_result"
    }
   ],
   "source": [
    "# Step 1: Get data from API\n",
    "videos = ['https://www.youtube.com/watch?v=7MAJfcG8B7E', 'https://www.youtube.com/watch?v=p1Ni5ZuOVZ4', \n",
    "          'https://www.youtube.com/watch?v=TW__W5AGKEQ', 'https://www.youtube.com/watch?v=J5FLyHMV9og',\n",
    "          'https://www.youtube.com/watch?v=gQscaDIRaMQ','https://www.youtube.com/watch?v=p7PPpw55SZI',\n",
    "          'https://www.youtube.com/watch?v=FiY2RY55YTg', 'https://www.youtube.com/watch?v=92XoU9cSYdM']\n",
    "\n",
    "\n",
    "df = get_comments_for_videos(videos)  # Check if this step works\n",
    "\n",
    "df.head()"
   ]
  },
  {
   "cell_type": "code",
   "execution_count": 4,
   "metadata": {},
   "outputs": [],
   "source": [
    "#Convert the published_at to date \n",
    "df['published_at']= df['published_at'].astype('datetime64[ns]')"
   ]
  },
  {
   "cell_type": "code",
   "execution_count": 5,
   "metadata": {},
   "outputs": [],
   "source": [
    "df['month'] = df['published_at'].dt.month\n",
    "df['year'] = df['published_at'].dt.year"
   ]
  },
  {
   "cell_type": "code",
   "execution_count": 6,
   "metadata": {},
   "outputs": [
    {
     "name": "stderr",
     "output_type": "stream",
     "text": [
      "/var/folders/54/clf_k3m56mb4rjqmsmx1bfyc0000gn/T/ipykernel_67680/3772401025.py:13: UserWarning: This pattern is interpreted as a regular expression, and has match groups. To actually get the groups, use str.extract.\n",
      "  df = df[~df.comment.str.contains(generic_comments)]\n"
     ]
    },
    {
     "data": {
      "text/html": [
       "<div>\n",
       "<style scoped>\n",
       "    .dataframe tbody tr th:only-of-type {\n",
       "        vertical-align: middle;\n",
       "    }\n",
       "\n",
       "    .dataframe tbody tr th {\n",
       "        vertical-align: top;\n",
       "    }\n",
       "\n",
       "    .dataframe thead th {\n",
       "        text-align: right;\n",
       "    }\n",
       "</style>\n",
       "<table border=\"1\" class=\"dataframe\">\n",
       "  <thead>\n",
       "    <tr style=\"text-align: right;\">\n",
       "      <th></th>\n",
       "      <th>video_id</th>\n",
       "      <th>comment</th>\n",
       "      <th>published_at</th>\n",
       "      <th>month</th>\n",
       "      <th>year</th>\n",
       "    </tr>\n",
       "  </thead>\n",
       "  <tbody>\n",
       "    <tr>\n",
       "      <th>1</th>\n",
       "      <td>7MAJfcG8B7E</td>\n",
       "      <td>i can clearly see that revolut paid you. lol</td>\n",
       "      <td>2024-11-10 21:22:26</td>\n",
       "      <td>11</td>\n",
       "      <td>2024</td>\n",
       "    </tr>\n",
       "    <tr>\n",
       "      <th>2</th>\n",
       "      <td>7MAJfcG8B7E</td>\n",
       "      <td>what is the value of 10k points in euros ?</td>\n",
       "      <td>2024-11-05 11:23:12</td>\n",
       "      <td>11</td>\n",
       "      <td>2024</td>\n",
       "    </tr>\n",
       "    <tr>\n",
       "      <th>3</th>\n",
       "      <td>7MAJfcG8B7E</td>\n",
       "      <td>using the ultra plan, if you pay via your revo...</td>\n",
       "      <td>2024-11-03 20:39:20</td>\n",
       "      <td>11</td>\n",
       "      <td>2024</td>\n",
       "    </tr>\n",
       "    <tr>\n",
       "      <th>4</th>\n",
       "      <td>7MAJfcG8B7E</td>\n",
       "      <td>spare change is scam! i have spent 130£  witho...</td>\n",
       "      <td>2024-10-30 02:41:59</td>\n",
       "      <td>10</td>\n",
       "      <td>2024</td>\n",
       "    </tr>\n",
       "    <tr>\n",
       "      <th>5</th>\n",
       "      <td>7MAJfcG8B7E</td>\n",
       "      <td>i just noticed i spent 280 euros in the last 0...</td>\n",
       "      <td>2024-10-30 00:34:43</td>\n",
       "      <td>10</td>\n",
       "      <td>2024</td>\n",
       "    </tr>\n",
       "  </tbody>\n",
       "</table>\n",
       "</div>"
      ],
      "text/plain": [
       "      video_id                                            comment  \\\n",
       "1  7MAJfcG8B7E       i can clearly see that revolut paid you. lol   \n",
       "2  7MAJfcG8B7E         what is the value of 10k points in euros ?   \n",
       "3  7MAJfcG8B7E  using the ultra plan, if you pay via your revo...   \n",
       "4  7MAJfcG8B7E  spare change is scam! i have spent 130£  witho...   \n",
       "5  7MAJfcG8B7E  i just noticed i spent 280 euros in the last 0...   \n",
       "\n",
       "         published_at  month  year  \n",
       "1 2024-11-10 21:22:26     11  2024  \n",
       "2 2024-11-05 11:23:12     11  2024  \n",
       "3 2024-11-03 20:39:20     11  2024  \n",
       "4 2024-10-30 02:41:59     10  2024  \n",
       "5 2024-10-30 00:34:43     10  2024  "
      ]
     },
     "execution_count": 6,
     "metadata": {},
     "output_type": "execute_result"
    }
   ],
   "source": [
    "\n",
    "def clean_data(df):\n",
    "    #columns \n",
    "    df = df.drop(columns=['author'])\n",
    "\n",
    "    df = df.dropna(subset=['comment'])  # Drop rows where 'comment' column is NaN\n",
    "\n",
    "    #lowercase\n",
    "    df['comment'] = df['comment'].str.lower()\n",
    "\n",
    "    #remove links and generic comments about the video\n",
    "    df = df[~df.comment.str.contains(\"https\")]\n",
    "    generic_comments  = r'(good video|great video|nice video|awesome video|amazing video|cool video|interesting video)' \n",
    "    df = df[~df.comment.str.contains(generic_comments)]\n",
    "\n",
    "\n",
    "    return df\n",
    "\n",
    "\n",
    "df = clean_data(df)\n",
    "\n",
    "df.head()"
   ]
  },
  {
   "cell_type": "markdown",
   "metadata": {},
   "source": [
    "## Basic EDA on the comments"
   ]
  },
  {
   "cell_type": "code",
   "execution_count": 7,
   "metadata": {},
   "outputs": [
    {
     "name": "stdout",
     "output_type": "stream",
     "text": [
      "Total Comments: 412\n",
      "Unique Videos: 8\n"
     ]
    }
   ],
   "source": [
    "print('Total Comments:', len(df['comment']))\n",
    "print('Unique Videos:', len(df['video_id'].unique()))"
   ]
  },
  {
   "cell_type": "code",
   "execution_count": 8,
   "metadata": {},
   "outputs": [
    {
     "name": "stdout",
     "output_type": "stream",
     "text": [
      "Comments per video id:  92XoU9cSYdM    130\n",
      "TW__W5AGKEQ     65\n",
      "p7PPpw55SZI     60\n",
      "J5FLyHMV9og     56\n",
      "gQscaDIRaMQ     46\n",
      "7MAJfcG8B7E     23\n",
      "p1Ni5ZuOVZ4     18\n",
      "FiY2RY55YTg     14\n",
      "Name: video_id, dtype: int64\n"
     ]
    }
   ],
   "source": [
    "print('Comments per video id: ', \n",
    "      df['video_id'].value_counts())"
   ]
  },
  {
   "cell_type": "markdown",
   "metadata": {},
   "source": [
    "## Sentiment Analysis"
   ]
  },
  {
   "cell_type": "markdown",
   "metadata": {},
   "source": [
    "First using NLTK"
   ]
  },
  {
   "cell_type": "code",
   "execution_count": 9,
   "metadata": {},
   "outputs": [
    {
     "name": "stdout",
     "output_type": "stream",
     "text": [
      "Polarity Column added to the dataframe\n"
     ]
    }
   ],
   "source": [
    "polarity = []\n",
    "for i in df['comment']:\n",
    "    blob = TextBlob(i)\n",
    "    polarity.append(round(blob.sentiment.polarity,3))\n",
    "df['polarity'] = polarity\n",
    "print('Polarity Column added to the dataframe')"
   ]
  },
  {
   "cell_type": "code",
   "execution_count": 10,
   "metadata": {},
   "outputs": [],
   "source": [
    "sentiment = []\n",
    "for i in df['polarity']:\n",
    "    if i > 0:\n",
    "        sentiment.append('positive')\n",
    "    elif i < 0:\n",
    "        sentiment.append('negative')\n",
    "    else:\n",
    "        sentiment.append('neutral')\n",
    "\n",
    "df['NLP sentiment'] = sentiment"
   ]
  },
  {
   "cell_type": "code",
   "execution_count": 11,
   "metadata": {},
   "outputs": [
    {
     "data": {
      "text/html": [
       "<div>\n",
       "<style scoped>\n",
       "    .dataframe tbody tr th:only-of-type {\n",
       "        vertical-align: middle;\n",
       "    }\n",
       "\n",
       "    .dataframe tbody tr th {\n",
       "        vertical-align: top;\n",
       "    }\n",
       "\n",
       "    .dataframe thead th {\n",
       "        text-align: right;\n",
       "    }\n",
       "</style>\n",
       "<table border=\"1\" class=\"dataframe\">\n",
       "  <thead>\n",
       "    <tr style=\"text-align: right;\">\n",
       "      <th></th>\n",
       "      <th>video_id</th>\n",
       "      <th>comment</th>\n",
       "      <th>published_at</th>\n",
       "      <th>month</th>\n",
       "      <th>year</th>\n",
       "      <th>polarity</th>\n",
       "      <th>NLP sentiment</th>\n",
       "    </tr>\n",
       "  </thead>\n",
       "  <tbody>\n",
       "    <tr>\n",
       "      <th>1</th>\n",
       "      <td>7MAJfcG8B7E</td>\n",
       "      <td>i can clearly see that revolut paid you. lol</td>\n",
       "      <td>2024-11-10 21:22:26</td>\n",
       "      <td>11</td>\n",
       "      <td>2024</td>\n",
       "      <td>0.450</td>\n",
       "      <td>positive</td>\n",
       "    </tr>\n",
       "    <tr>\n",
       "      <th>2</th>\n",
       "      <td>7MAJfcG8B7E</td>\n",
       "      <td>what is the value of 10k points in euros ?</td>\n",
       "      <td>2024-11-05 11:23:12</td>\n",
       "      <td>11</td>\n",
       "      <td>2024</td>\n",
       "      <td>0.000</td>\n",
       "      <td>neutral</td>\n",
       "    </tr>\n",
       "    <tr>\n",
       "      <th>3</th>\n",
       "      <td>7MAJfcG8B7E</td>\n",
       "      <td>using the ultra plan, if you pay via your revo...</td>\n",
       "      <td>2024-11-03 20:39:20</td>\n",
       "      <td>11</td>\n",
       "      <td>2024</td>\n",
       "      <td>0.000</td>\n",
       "      <td>neutral</td>\n",
       "    </tr>\n",
       "    <tr>\n",
       "      <th>4</th>\n",
       "      <td>7MAJfcG8B7E</td>\n",
       "      <td>spare change is scam! i have spent 130£  witho...</td>\n",
       "      <td>2024-10-30 02:41:59</td>\n",
       "      <td>10</td>\n",
       "      <td>2024</td>\n",
       "      <td>0.100</td>\n",
       "      <td>positive</td>\n",
       "    </tr>\n",
       "    <tr>\n",
       "      <th>5</th>\n",
       "      <td>7MAJfcG8B7E</td>\n",
       "      <td>i just noticed i spent 280 euros in the last 0...</td>\n",
       "      <td>2024-10-30 00:34:43</td>\n",
       "      <td>10</td>\n",
       "      <td>2024</td>\n",
       "      <td>-0.135</td>\n",
       "      <td>negative</td>\n",
       "    </tr>\n",
       "  </tbody>\n",
       "</table>\n",
       "</div>"
      ],
      "text/plain": [
       "      video_id                                            comment  \\\n",
       "1  7MAJfcG8B7E       i can clearly see that revolut paid you. lol   \n",
       "2  7MAJfcG8B7E         what is the value of 10k points in euros ?   \n",
       "3  7MAJfcG8B7E  using the ultra plan, if you pay via your revo...   \n",
       "4  7MAJfcG8B7E  spare change is scam! i have spent 130£  witho...   \n",
       "5  7MAJfcG8B7E  i just noticed i spent 280 euros in the last 0...   \n",
       "\n",
       "         published_at  month  year  polarity NLP sentiment  \n",
       "1 2024-11-10 21:22:26     11  2024     0.450      positive  \n",
       "2 2024-11-05 11:23:12     11  2024     0.000       neutral  \n",
       "3 2024-11-03 20:39:20     11  2024     0.000       neutral  \n",
       "4 2024-10-30 02:41:59     10  2024     0.100      positive  \n",
       "5 2024-10-30 00:34:43     10  2024    -0.135      negative  "
      ]
     },
     "execution_count": 11,
     "metadata": {},
     "output_type": "execute_result"
    }
   ],
   "source": [
    "df.head()"
   ]
  },
  {
   "cell_type": "code",
   "execution_count": 12,
   "metadata": {},
   "outputs": [
    {
     "name": "stdout",
     "output_type": "stream",
     "text": [
      "Reviews with Positive Sentiment based on Polarity : 183\n",
      "Reviews with Negative Sentiment based on Polarity : 66\n",
      "Reviews with Neutral Sentiment based on Polarity : 163\n"
     ]
    },
    {
     "ename": "",
     "evalue": "",
     "output_type": "error",
     "traceback": [
      "\u001b[1;31mThe Kernel crashed while executing code in the current cell or a previous cell. \n",
      "\u001b[1;31mPlease review the code in the cell(s) to identify a possible cause of the failure. \n",
      "\u001b[1;31mClick <a href='https://aka.ms/vscodeJupyterKernelCrash'>here</a> for more info. \n",
      "\u001b[1;31mView Jupyter <a href='command:jupyter.viewOutput'>log</a> for further details."
     ]
    }
   ],
   "source": [
    "print('Reviews with Positive Sentiment based on Polarity :', len(df[df['polarity'] > 0]))\n",
    "print('Reviews with Negative Sentiment based on Polarity :', len(df[df['polarity'] < 0]))\n",
    "print('Reviews with Neutral Sentiment based on Polarity :', len(df[df['polarity'] == 0]))"
   ]
  },
  {
   "cell_type": "markdown",
   "metadata": {},
   "source": [
    "Now using LLMs(Transformers)"
   ]
  },
  {
   "cell_type": "markdown",
   "metadata": {},
   "source": [
    "### 1. Twitter roBERTa \n",
    "This is a roBERTa-base model trained on ~124M tweets and finetuned for sentiment analysis with the TweetEval benchmark. "
   ]
  },
  {
   "cell_type": "code",
   "execution_count": 13,
   "metadata": {},
   "outputs": [
    {
     "name": "stderr",
     "output_type": "stream",
     "text": [
      "2024-11-15 18:24:51.764739: I tensorflow/core/platform/cpu_feature_guard.cc:182] This TensorFlow binary is optimized to use available CPU instructions in performance-critical operations.\n",
      "To enable the following instructions: AVX2 FMA, in other operations, rebuild TensorFlow with the appropriate compiler flags.\n",
      "Some weights of the model checkpoint at cardiffnlp/twitter-roberta-base-sentiment-latest were not used when initializing RobertaForSequenceClassification: ['roberta.pooler.dense.bias', 'roberta.pooler.dense.weight']\n",
      "- This IS expected if you are initializing RobertaForSequenceClassification from the checkpoint of a model trained on another task or with another architecture (e.g. initializing a BertForSequenceClassification model from a BertForPreTraining model).\n",
      "- This IS NOT expected if you are initializing RobertaForSequenceClassification from the checkpoint of a model that you expect to be exactly identical (initializing a BertForSequenceClassification model from a BertForSequenceClassification model).\n"
     ]
    }
   ],
   "source": [
    "from transformers import AutoTokenizer, AutoConfig, AutoModelForSequenceClassification\n",
    "from scipy.special import softmax\n",
    "import numpy as np\n",
    "import pandas as pd\n",
    "\n",
    "MODEL = \"cardiffnlp/twitter-roberta-base-sentiment-latest\"\n",
    "tokenizer = AutoTokenizer.from_pretrained(MODEL)\n",
    "config = AutoConfig.from_pretrained(MODEL)\n",
    "model = AutoModelForSequenceClassification.from_pretrained(MODEL)\n",
    "\n",
    "# No preprocessing needed\n",
    "def get_sentiment(text):\n",
    "    encoded_input = tokenizer(text, return_tensors='pt', truncation=True, padding='max_length', max_length=512)\n",
    "    output = model(**encoded_input)\n",
    "    scores = output[0][0].detach().numpy()\n",
    "    scores = softmax(scores)\n",
    "    ranking = np.argsort(scores)\n",
    "    ranking = ranking[::-1]\n",
    "    \n",
    "    top_label = config.id2label[ranking[0]]\n",
    "    top_score = np.round(float(scores[ranking[0]]), 4)\n",
    "    \n",
    "    return top_label, top_score\n",
    "\n",
    "\n",
    "# Apply the sentiment analysis to each comment\n",
    "df['LLM sentiment'], df['LLM score'] = zip(*df['comment'].map(get_sentiment))\n",
    "\n",
    "print('Sentiment Analysis using LLM completed')\n"
   ]
  },
  {
   "cell_type": "code",
   "execution_count": null,
   "metadata": {},
   "outputs": [
    {
     "name": "stdout",
     "output_type": "stream",
     "text": [
      "Reviews with Positive Sentiment based on roBERTa : 65\n",
      "Reviews with Negative Sentiment based on roBERTa : 149\n",
      "Reviews with Neutral Sentiment based on roBERTa : 198\n"
     ]
    }
   ],
   "source": [
    "print('Reviews with Positive Sentiment based on roBERTa :', len(df[df['sentiment'] == 'positive']))\n",
    "print('Reviews with Negative Sentiment based on roBERTa :', len(df[df['sentiment'] == 'negative']))\n",
    "print('Reviews with Neutral Sentiment based on roBERTa :', len(df[df['sentiment'] == 'neutral']))\n"
   ]
  },
  {
   "cell_type": "code",
   "execution_count": null,
   "metadata": {},
   "outputs": [],
   "source": [
    "df.head()"
   ]
  }
 ],
 "metadata": {
  "kernelspec": {
   "display_name": "base",
   "language": "python",
   "name": "python3"
  },
  "language_info": {
   "codemirror_mode": {
    "name": "ipython",
    "version": 3
   },
   "file_extension": ".py",
   "mimetype": "text/x-python",
   "name": "python",
   "nbconvert_exporter": "python",
   "pygments_lexer": "ipython3",
   "version": "3.9.12"
  }
 },
 "nbformat": 4,
 "nbformat_minor": 2
}
